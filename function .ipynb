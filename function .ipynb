{
 "cells": [
  {
   "cell_type": "code",
   "execution_count": null,
   "metadata": {},
   "outputs": [],
   "source": [
    "#list out the items in the list"
   ]
  },
  {
   "cell_type": "code",
   "execution_count": 2,
   "metadata": {},
   "outputs": [],
   "source": [
    "def subfieldsinAI():\n",
    "    print(\"sub fields in Ai are:\")\n",
    "    print(\"*machine learning\")\n",
    "    print(\"*neural networks\")\n",
    "    print(\"*vision\")\n",
    "    print(\"*robotics\")\n",
    "    print(\"*speech processing\")\n",
    "    print(\"*natural language processing\")"
   ]
  },
  {
   "cell_type": "code",
   "execution_count": 22,
   "metadata": {},
   "outputs": [
    {
     "name": "stdout",
     "output_type": "stream",
     "text": [
      "sub fields in Ai are:\n",
      "*machine learning\n",
      "*neural networks\n",
      "*vision\n",
      "*robotics\n",
      "*speech processing\n",
      "*natural language processing\n"
     ]
    }
   ],
   "source": [
    "subfieldsinAI()"
   ]
  },
  {
   "cell_type": "code",
   "execution_count": null,
   "metadata": {},
   "outputs": [],
   "source": []
  },
  {
   "cell_type": "code",
   "execution_count": null,
   "metadata": {},
   "outputs": [],
   "source": [
    "#the given number is odd or even"
   ]
  },
  {
   "cell_type": "code",
   "execution_count": 20,
   "metadata": {},
   "outputs": [],
   "source": [
    "def oddoreven():\n",
    "    num=float(input(\"enter the value:\"))\n",
    "    if (num%2==0):\n",
    "        print(\"even number\")\n",
    "    else:\n",
    "        print(\"odd number\")"
   ]
  },
  {
   "cell_type": "code",
   "execution_count": 21,
   "metadata": {},
   "outputs": [
    {
     "name": "stdout",
     "output_type": "stream",
     "text": [
      "enter the value:88\n",
      "even number\n"
     ]
    }
   ],
   "source": [
    "oddoreven()"
   ]
  },
  {
   "cell_type": "code",
   "execution_count": null,
   "metadata": {},
   "outputs": [],
   "source": []
  },
  {
   "cell_type": "code",
   "execution_count": null,
   "metadata": {},
   "outputs": [],
   "source": [
    "#marriage eligible foe male and female"
   ]
  },
  {
   "cell_type": "code",
   "execution_count": 15,
   "metadata": {},
   "outputs": [],
   "source": [
    "def marriage_elegible():\n",
    "    male_age=int(input(\"male age\"))\n",
    "    if male_age<21:\n",
    "        print(\"not elegibility for marriage\")\n",
    "    else:\n",
    "        print(\"eligible for marriage\")\n",
    "    female_age=int(input(\"female age\"))\n",
    "    if female_age<18:\n",
    "        print(\"not elegibility for marriage\")\n",
    "    else:\n",
    "        print(\"eligible for marriage\")\n",
    "    "
   ]
  },
  {
   "cell_type": "code",
   "execution_count": 16,
   "metadata": {},
   "outputs": [
    {
     "name": "stdout",
     "output_type": "stream",
     "text": [
      "male age20\n",
      "not elegibility for marriage\n",
      "female age18\n",
      "eligible for marriage\n"
     ]
    }
   ],
   "source": [
    "marriage_elegible()"
   ]
  },
  {
   "cell_type": "code",
   "execution_count": null,
   "metadata": {},
   "outputs": [],
   "source": []
  },
  {
   "cell_type": "code",
   "execution_count": null,
   "metadata": {},
   "outputs": [],
   "source": [
    "#calculate the percentage of 10th mark"
   ]
  },
  {
   "cell_type": "code",
   "execution_count": 11,
   "metadata": {},
   "outputs": [],
   "source": [
    "def percentageofmark():\n",
    "    sub1=int(input(\"tamil mark:\"))\n",
    "    sub2=int(input(\"english mark:\"))\n",
    "    sub3=int(input(\"math mark:\"))\n",
    "    sub4=int(input(\"scince mark:\"))\n",
    "    sub5=int(input(\"social mark:\"))\n",
    "    total=(sub1+sub2+sub3+sub4+sub5)\n",
    "    print(\"total:\",total)\n",
    "    percentage=total/5\n",
    "    print(\"percentage:\",percentage)"
   ]
  },
  {
   "cell_type": "code",
   "execution_count": 12,
   "metadata": {},
   "outputs": [
    {
     "name": "stdout",
     "output_type": "stream",
     "text": [
      "tamil mark:35\n",
      "english mark:35\n",
      "math mark:35\n",
      "scince mark:35\n",
      "social mark:35\n",
      "total: 175\n",
      "percentage: 35.0\n"
     ]
    }
   ],
   "source": [
    "percentageofmark()"
   ]
  },
  {
   "cell_type": "code",
   "execution_count": null,
   "metadata": {},
   "outputs": [],
   "source": []
  },
  {
   "cell_type": "code",
   "execution_count": null,
   "metadata": {},
   "outputs": [],
   "source": [
    "#calculate the area"
   ]
  },
  {
   "cell_type": "code",
   "execution_count": 9,
   "metadata": {},
   "outputs": [],
   "source": [
    "def area():\n",
    "    height=int(input(\"height:\"))\n",
    "    breadth=int(input(\"breadth:\"))\n",
    "    area=(height*breadth)/2\n",
    "    print(\"area:\",area)"
   ]
  },
  {
   "cell_type": "code",
   "execution_count": 10,
   "metadata": {},
   "outputs": [
    {
     "name": "stdout",
     "output_type": "stream",
     "text": [
      "height:32\n",
      "breadth:34\n",
      "area: 544.0\n"
     ]
    }
   ],
   "source": [
    "area()"
   ]
  },
  {
   "cell_type": "code",
   "execution_count": null,
   "metadata": {},
   "outputs": [],
   "source": [
    "#calculate the perimeter of triangle"
   ]
  },
  {
   "cell_type": "code",
   "execution_count": 4,
   "metadata": {},
   "outputs": [],
   "source": [
    "def permeter_of_triangle():\n",
    "    height1=int(input(\"height1:\"))\n",
    "    height2=int(input(\"height2:\"))\n",
    "    breadth=int(input(\"breadth:\"))\n",
    "    permeter_of_triangle=(height1+height2+breadth)\n",
    "    print(\"perimeter of triangle:\",permeter_of_triangle)"
   ]
  },
  {
   "cell_type": "code",
   "execution_count": 5,
   "metadata": {},
   "outputs": [
    {
     "name": "stdout",
     "output_type": "stream",
     "text": [
      "height1:2\n",
      "height2:4\n",
      "breadth:4\n",
      "perimeter of triangle: 10\n"
     ]
    }
   ],
   "source": [
    "permeter_of_triangle()"
   ]
  },
  {
   "cell_type": "code",
   "execution_count": null,
   "metadata": {},
   "outputs": [],
   "source": []
  }
 ],
 "metadata": {
  "kernelspec": {
   "display_name": "Python 3",
   "language": "python",
   "name": "python3"
  },
  "language_info": {
   "codemirror_mode": {
    "name": "ipython",
    "version": 3
   },
   "file_extension": ".py",
   "mimetype": "text/x-python",
   "name": "python",
   "nbconvert_exporter": "python",
   "pygments_lexer": "ipython3",
   "version": "3.7.4"
  }
 },
 "nbformat": 4,
 "nbformat_minor": 2
}
